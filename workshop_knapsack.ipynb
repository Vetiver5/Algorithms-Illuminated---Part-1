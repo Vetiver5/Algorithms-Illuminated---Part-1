{
  "nbformat": 4,
  "nbformat_minor": 0,
  "metadata": {
    "kernelspec": {
      "display_name": "Python 3",
      "language": "python",
      "name": "python3"
    },
    "language_info": {
      "codemirror_mode": {
        "name": "ipython",
        "version": 3
      },
      "file_extension": ".py",
      "mimetype": "text/x-python",
      "name": "python",
      "nbconvert_exporter": "python",
      "pygments_lexer": "ipython3",
      "version": "3.7.4-final"
    },
    "colab": {
      "name": "workshop knapsack.ipynb",
      "provenance": [],
      "collapsed_sections": [],
      "include_colab_link": true
    }
  },
  "cells": [
    {
      "cell_type": "markdown",
      "metadata": {
        "id": "view-in-github",
        "colab_type": "text"
      },
      "source": [
        "<a href=\"https://colab.research.google.com/github/Vetiver5/Algorithms-Illuminated---Part-1/blob/master/workshop_knapsack.ipynb\" target=\"_parent\"><img src=\"https://colab.research.google.com/assets/colab-badge.svg\" alt=\"Open In Colab\"/></a>"
      ]
    },
    {
      "cell_type": "markdown",
      "metadata": {
        "id": "41z-16ju4MCG"
      },
      "source": [
        "## Knapsack Problem\n",
        "\n",
        "The *knapsack problem*:  given a set of integers $S = \\{s_1, s_2, \\ldots, s_n\\}$ and a target number $T$, find a subset (i.e., knapsack) of $S$ which adds up exactly to $T$.  \n",
        "\n",
        "For example, if $S = \\{1,2,5, 9, 10\\}$, there is a subset that adds up to $T = 22$, but not to $T = 23$.  Complete the following tasks related to this problem."
      ]
    },
    {
      "cell_type": "markdown",
      "metadata": {
        "id": "-D_OjGv94MCG"
      },
      "source": [
        "# 1. \n",
        "\n",
        "Find a subset of $S = \\{1,2,5, 9, 10\\}$ with sum $T = 22$.  Explain the process (algorithm) you used mentally to find the subset.  Then apply the same process in an attempt to find a subset with sum $T = 23$.  \n",
        "\n",
        "How do you know there is no such subset?"
      ]
    },
    {
      "cell_type": "code",
      "metadata": {
        "id": "R3fDgwwC4ojJ"
      },
      "source": [
        "S = {1,2,5,9,10}\n",
        "#1. find subset = 22\n",
        "sbset = {1,2,9,10}\n",
        "\n",
        "#2. what mental process did you use?\n",
        "#I added all the values (T = 27), then substracted the\n",
        "#single value (5) which would reduce the total to 22.\n",
        "\n",
        "#3. how do you know there is no b\n"
      ],
      "execution_count": null,
      "outputs": []
    },
    {
      "cell_type": "markdown",
      "metadata": {
        "collapsed": true,
        "id": "Oq0SyT6H4MCG"
      },
      "source": [
        "# 2.\n",
        "\n",
        "Consider the following possible algorithm for the knapsack problem, written in psuedocode: \n",
        "```python\n",
        "knapsack(S[], T):\n",
        "    K = empty\n",
        "    for each i < size(S)\n",
        "        if sum(K) + S[i] <= T, put S[i] into K\n",
        "    if sum(K) = T, return K, else return False.\n",
        "```\n",
        "**a)** Describe what this algorithm does in English.  \n",
        "\n",
        "**b)** Implement this algorithm in Python and run it on the $S$ and $T$ above.\n",
        "\n",
        "\n",
        "**c)** Prove that this algorithm is NOT correct.  That is, find a counterexample: a set $S$ and number $T$ for which there is a solution, but not one that the algorithm finds.\n",
        "\n",
        "**d)** Verify that this particular $S$ and $T$ does not give the right output when entered to your Python program."
      ]
    },
    {
      "cell_type": "markdown",
      "metadata": {
        "id": "aeEaH4aAF8hB"
      },
      "source": [
        "A. Given a list of values called S, and a target value of T which will be created by summing a sub-set of S:\n",
        "\n",
        "\n",
        "1. create an empty list called K\n",
        "2. add the values (i) in S; if their sum is equal to T or lesser, include the considered values in K\n",
        "3. if the sum of values in K is equal to T return the K set.\n",
        "4. if it isn't, return False\n",
        "\n",
        "The algorithm as described in the pseudocode cannot progress through S and generate a sub-set == T as it isn't programmed in a way to skip a value without which K will match T.\n",
        "\n",
        "\n",
        "\n",
        "\n",
        "\n",
        "\n",
        "\n"
      ]
    },
    {
      "cell_type": "code",
      "metadata": {
        "id": "tME-z2ia8LPN"
      },
      "source": [
        "# B. implement the algorithm as described\n",
        "S = {1,2,5,9,10}\n",
        "S = list(S)\n",
        "T = 22\n",
        "\n",
        "def sumup_K(S,T):\n",
        "  K = []\n",
        "  for i in range(len(S)):\n",
        "    if (sum(K) + S[i]) <= T :\n",
        "      K.append(S[i])\n",
        "  if sum(K) == T :\n",
        "    return K\n",
        "  else:\n",
        "    return False"
      ],
      "execution_count": null,
      "outputs": []
    },
    {
      "cell_type": "code",
      "metadata": {
        "colab": {
          "base_uri": "https://localhost:8080/"
        },
        "id": "6V9eFhPPApGn",
        "outputId": "4aec0a42-e3b1-4449-ab2b-1ef93ad9be13"
      },
      "source": [
        "sumup_K(S,T)"
      ],
      "execution_count": null,
      "outputs": [
        {
          "output_type": "execute_result",
          "data": {
            "text/plain": [
              "False"
            ]
          },
          "metadata": {
            "tags": []
          },
          "execution_count": 18
        }
      ]
    },
    {
      "cell_type": "code",
      "metadata": {
        "id": "-HvbBa5YBE9B"
      },
      "source": [
        "#C. prove that the algorithm is NOT correct\n",
        "#if K =[1,2,9,10]\n",
        "#sum S[i] = 22 = T"
      ],
      "execution_count": null,
      "outputs": []
    },
    {
      "cell_type": "markdown",
      "metadata": {
        "id": "ocCe-o6dLB84"
      },
      "source": [
        ""
      ]
    },
    {
      "cell_type": "code",
      "metadata": {
        "id": "kB31fiLPLD_7"
      },
      "source": [
        "#D. verify that the algorithm doesn't work with the K set\n",
        "#which would == T\n",
        "\n",
        "S = {1,2,9,10}\n",
        "S = list(S)\n",
        "T = 22\n",
        "\n",
        "def sumup_K(S,T):\n",
        "  K = []\n",
        "  for i in range(len(S)):\n",
        "    if (sum(K) + S[i]) <= T :\n",
        "      K.append(S[i])\n",
        "  if sum(K) == T :\n",
        "    return K\n",
        "  else:\n",
        "    return False"
      ],
      "execution_count": null,
      "outputs": []
    },
    {
      "cell_type": "code",
      "metadata": {
        "colab": {
          "base_uri": "https://localhost:8080/"
        },
        "id": "C6NL8rLjLsMX",
        "outputId": "06f5704c-780d-4501-8a80-e4ce29581110"
      },
      "source": [
        "sumup_K(S,T)"
      ],
      "execution_count": null,
      "outputs": [
        {
          "output_type": "execute_result",
          "data": {
            "text/plain": [
              "False"
            ]
          },
          "metadata": {
            "tags": []
          },
          "execution_count": 19
        }
      ]
    },
    {
      "cell_type": "markdown",
      "metadata": {
        "id": "aF6nrO674MCG"
      },
      "source": [
        "# 3. \n",
        "\n",
        "Another try: What if you put the elements in the knapsack from largest to smallest?  Check that this too is not a correct algorithm."
      ]
    },
    {
      "cell_type": "markdown",
      "metadata": {
        "id": "xMswYWnM4MCG"
      },
      "source": [
        "# 4.\n",
        "\n",
        "Describe a correct algorithm for the knapsack problem (that we haven't seen in class), both in English and in pseudocode.  Then implement the algorithm in Python.  Explain how you know your algorithm is correct (even if it might not be efficient)."
      ]
    },
    {
      "cell_type": "code",
      "metadata": {
        "id": "LtRNaq2cRSUX"
      },
      "source": [
        "#Returns the maximum value that can be stored by the bag\n",
        "def knapSack(W, wt, val, n):\n",
        "   # initial conditions\n",
        "   if n == 0 or W == 0 :\n",
        "      return 0\n",
        "   # If weight is higher than capacity then it is not included\n",
        "   if (wt[n-1] > W):\n",
        "      return knapSack(W, wt, val, n-1)\n",
        "   # return either nth item being included or not\n",
        "   else:\n",
        "      return max(val[n-1] + knapSack(W-wt[n-1], wt, val, n-1),\n",
        "         knapSack(W, wt, val, n-1))\n",
        "# To test above function\n",
        "val = [50,100,150,200]\n",
        "wt = [8,16,32,40]\n",
        "W = 64\n",
        "n = len(val)\n",
        "print (knapSack(W, wt, val, n))"
      ],
      "execution_count": null,
      "outputs": []
    },
    {
      "cell_type": "markdown",
      "metadata": {
        "collapsed": true,
        "id": "Di-6MWh-4MCG"
      },
      "source": [
        "# 5. Generating correct change\n",
        "\n",
        "Now, we will be making change using the fewest coins. \n",
        "\n",
        "Suppose you are a programmer for a vending machine manufacturer. Your company wants to streamline effort by giving out the fewest possible coins in change for each transaction. Suppose a customer puts in a dollar bill and purchases an item for 37 cents. What is the smallest number of coins you can use to make change? The answer is six coins: two quarters, one dime, and three pennies. \n",
        "\n",
        "How did we arrive at the answer of six coins? We start with the largest coin in our arsenal (a quarter) and use as many of those as possible, then we go to the next lowest coin value and use as many of those as possible. This is the greedy algorithm for change-making.\n",
        "\n",
        "**Question:** Write the greedy algorithm for change making.\n",
        "\n",
        "The input is the amount of change to generate (in pennies) and a list of coin sizes (in pennies)\n",
        "\n",
        "The output is the minimum number of coins to gener\n",
        "\n",
        "```\n",
        "# buys with 1 dollar for 37 pennies\n",
        "# Second argument says we can give quarters, dimes, nickels and pennies\n",
        "make_change(100 - 37, [25, 10, 5, 1])\n",
        "\n",
        "# 2 quarters, one dime, and three pennies\n",
        "output --> 6 # Output would be equivalent to the choices [2, 1, 0, 3]\n",
        "```"
      ]
    },
    {
      "cell_type": "markdown",
      "metadata": {
        "id": "I35vnioK4MCG"
      },
      "source": [
        "# 6 Recursive change\n",
        "\n",
        "Write the greedy change making algorithm using recursion"
      ]
    },
    {
      "cell_type": "markdown",
      "metadata": {
        "id": "DhWFUY-G4MCG"
      },
      "source": [
        "# 7 (Stretch) Dynamic Programming Change making\n",
        "\n",
        "Write a solution to the change making problem using dynamic programming.\n",
        "\n",
        "**Hint:** Start with making change for one cent and systematically work its way up to the amount of change we require. This guarantees us that at each step of the algorithm we already know the minimum number of coins needed to make change for any smaller amount. Keep a memoized table of results for each step working up to the amount of change you need to generate."
      ]
    },
    {
      "cell_type": "code",
      "metadata": {
        "id": "C9Lyy8ofQvYn"
      },
      "source": [
        "# a dynamic approach\n",
        "# Returns the maximum value that can be stored by the bag\n",
        "def knapSack(W, wt, val, n):\n",
        "   K = [[0 for x in range(W + 1)] for x in range(n + 1)]\n",
        "   #Table in bottom up manner\n",
        "   for i in range(n + 1):\n",
        "      for w in range(W + 1):\n",
        "         if i == 0 or w == 0:\n",
        "            K[i][w] = 0\n",
        "         elif wt[i-1] <= w:\n",
        "            K[i][w] = max(val[i-1] + K[i-1][w-wt[i-1]], K[i-1][w])\n",
        "         else:\n",
        "            K[i][w] = K[i-1][w]\n",
        "   return K[n][W]\n",
        "#Main\n",
        "val = [50,100,150,200]\n",
        "wt = [8,16,32,40]\n",
        "W = 64\n",
        "n = len(val)\n",
        "print(knapSack(W, wt, val, n))"
      ],
      "execution_count": null,
      "outputs": []
    },
    {
      "cell_type": "code",
      "metadata": {
        "id": "r8Uy87FH4MCG"
      },
      "source": [
        ""
      ],
      "execution_count": null,
      "outputs": []
    },
    {
      "cell_type": "code",
      "metadata": {
        "id": "GM5EGNUN4MCG"
      },
      "source": [
        ""
      ],
      "execution_count": null,
      "outputs": []
    }
  ]
}