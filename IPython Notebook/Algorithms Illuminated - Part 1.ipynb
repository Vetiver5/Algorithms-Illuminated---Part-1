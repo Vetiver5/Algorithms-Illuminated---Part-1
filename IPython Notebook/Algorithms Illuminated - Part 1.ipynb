{
 "cells": [
  {
   "cell_type": "markdown",
   "metadata": {},
   "source": [
    "## Useful Reference Links:\n",
    "\n",
    "http://www.algorithmsilluminated.com/\n",
    "<br>\n",
    "https://opendsa-server.cs.vt.edu/ODSA/Books/Everything/html/"
   ]
  },
  {
   "cell_type": "markdown",
   "metadata": {},
   "source": [
    "### Karatsuba Multiplication Algorithm"
   ]
  },
  {
   "cell_type": "code",
   "execution_count": 11,
   "metadata": {},
   "outputs": [],
   "source": [
    "def karatsuba_mul(x, y):\n",
    "    from math import log\n",
    "    if int(x) == 0 or int(y) == 0:\n",
    "        return 0\n",
    "    x = str(x)\n",
    "    y = str(y)\n",
    "    digits_x = len(x)\n",
    "    digits_y = len(y)\n",
    "    if digits_x == 1 and digits_y == 1:\n",
    "        return int(x) * int(y)\n",
    "    if digits_x >= digits_y:\n",
    "        if ((digits_x != 0) and (digits_x & (digits_x - 1))):\n",
    "            ideal_digits = 2 ** (int(log(digits_x, 2)) + 1)\n",
    "            for i in range(ideal_digits - digits_x):\n",
    "                x = '0'+ x\n",
    "        digits_x = len(x)\n",
    "        for i in range(digits_x - digits_y):\n",
    "            y = '0' + y\n",
    "    else:\n",
    "        if ((digits_y != 0) and (digits_y & (digits_y - 1))):\n",
    "            ideal_digits = 2 ** (int(log(digits_y, 2)) + 1)\n",
    "            for i in range(ideal_digits - digits_y):\n",
    "                y = '0'+ y\n",
    "        digits_y = len(y)\n",
    "        for i in range(digits_y - digits_x):\n",
    "            x = '0' + x\n",
    "    a, b = x[:len(x)//2], x[len(x)//2:]\n",
    "    c, d = y[:len(y)//2], y[len(y)//2:]\n",
    "    step1 = karatsuba_mul(a, c)\n",
    "    step2 = karatsuba_mul(b, d)\n",
    "    step3 = karatsuba_mul(int(a)+int(b), int(c)+int(d))\n",
    "    step4 = step3 - step1 - step2\n",
    "    rslt = 10**len(x) * step1 + 10**(len(x)//2) * step4 + step2\n",
    "    return rslt"
   ]
  },
  {
   "cell_type": "code",
   "execution_count": 9,
   "metadata": {},
   "outputs": [
    {
     "name": "stdout",
     "output_type": "stream",
     "text": [
      "8.83 ms ± 105 µs per loop (mean ± std. dev. of 7 runs, 100 loops each)\n"
     ]
    }
   ],
   "source": [
    "%timeit karatsuba_mul(3141592653589793238462643383279502884197169399375105820974944592, 2718281828459045235360287471352662497757247093699959574966967627)"
   ]
  },
  {
   "cell_type": "code",
   "execution_count": 12,
   "metadata": {},
   "outputs": [
    {
     "data": {
      "text/plain": [
       "8539734222673567065463550869546574495034888535765114961879601127067743044893204848617875072216249073013374895871952806582723184"
      ]
     },
     "execution_count": 12,
     "metadata": {},
     "output_type": "execute_result"
    }
   ],
   "source": [
    "karatsuba_mul(3141592653589793238462643383279502884197169399375105820974944592, 2718281828459045235360287471352662497757247093699959574966967627)"
   ]
  },
  {
   "cell_type": "code",
   "execution_count": 7,
   "metadata": {},
   "outputs": [
    {
     "data": {
      "text/plain": [
       "999999890000001"
      ]
     },
     "execution_count": 7,
     "metadata": {},
     "output_type": "execute_result"
    }
   ],
   "source": [
    "karatsuba_mul(9999999, 99999999)"
   ]
  },
  {
   "cell_type": "code",
   "execution_count": 97,
   "metadata": {},
   "outputs": [
    {
     "name": "stdout",
     "output_type": "stream",
     "text": [
      "49.1 µs ± 1.22 µs per loop (mean ± std. dev. of 7 runs, 10000 loops each)\n"
     ]
    }
   ],
   "source": [
    "%timeit karatsuba_mul(12345, 12)"
   ]
  },
  {
   "cell_type": "code",
   "execution_count": 93,
   "metadata": {},
   "outputs": [
    {
     "name": "stdout",
     "output_type": "stream",
     "text": [
      "69.9 µs ± 1.81 µs per loop (mean ± std. dev. of 7 runs, 10000 loops each)\n"
     ]
    }
   ],
   "source": [
    "%timeit karatsuba_mul(12345, 12345)"
   ]
  },
  {
   "cell_type": "code",
   "execution_count": 88,
   "metadata": {
    "scrolled": true
   },
   "outputs": [
    {
     "name": "stdout",
     "output_type": "stream",
     "text": [
      "99.2 µs ± 1.61 µs per loop (mean ± std. dev. of 7 runs, 10000 loops each)\n"
     ]
    }
   ],
   "source": [
    "%timeit karatsuba_mul(12345678, 12345678)"
   ]
  },
  {
   "cell_type": "code",
   "execution_count": 88,
   "metadata": {},
   "outputs": [
    {
     "name": "stdout",
     "output_type": "stream",
     "text": [
      "331 µs ± 36.9 µs per loop (mean ± std. dev. of 7 runs, 1000 loops each)\n"
     ]
    }
   ],
   "source": [
    "%timeit karatsuba_mul(9999999, 99999999)"
   ]
  },
  {
   "cell_type": "code",
   "execution_count": 33,
   "metadata": {},
   "outputs": [
    {
     "name": "stdout",
     "output_type": "stream",
     "text": [
      "9.01 ms ± 135 µs per loop (mean ± std. dev. of 7 runs, 100 loops each)\n"
     ]
    }
   ],
   "source": [
    "%timeit karatsuba_mul(3141592653589793238462643383279502884197169399375105820974944592, 2718281828459045235360287471352662497757247093699959574966967627)"
   ]
  },
  {
   "cell_type": "markdown",
   "metadata": {},
   "source": [
    "### Recursive Mulitiplication Algorithm"
   ]
  },
  {
   "cell_type": "code",
   "execution_count": 1,
   "metadata": {},
   "outputs": [],
   "source": [
    "def rec_mul(x, y):\n",
    "    from math import log\n",
    "    if int(x) == 0 or int(y) == 0:\n",
    "        return 0\n",
    "    x = str(x)\n",
    "    y = str(y)\n",
    "    digits_x = len(x)\n",
    "    digits_y = len(y)\n",
    "    if digits_x == 1 and digits_y == 1:\n",
    "        return int(x) * int(y)\n",
    "    if digits_x >= digits_y:\n",
    "        if ((digits_x != 0) and (digits_x & (digits_x - 1))):\n",
    "            ideal_digits = 2 ** (int(log(digits_x, 2)) + 1)\n",
    "            for i in range(ideal_digits - digits_x):\n",
    "                x = '0'+ x\n",
    "        digits_x = len(x)\n",
    "        for i in range(digits_x - digits_y):\n",
    "            y = '0' + y\n",
    "    else:\n",
    "        if ((digits_y != 0) and (digits_y & (digits_y - 1))):\n",
    "            ideal_digits = 2 ** (int(log(digits_y, 2)) + 1)\n",
    "            for i in range(ideal_digits - digits_y):\n",
    "                y = '0'+ y\n",
    "        digits_y = len(y)\n",
    "        for i in range(digits_y - digits_x):\n",
    "            x = '0' + x\n",
    "    a, b = x[:len(x)//2], x[len(x)//2:]\n",
    "    c, d = y[:len(y)//2], y[len(y)//2:]\n",
    "    step1 = rec_mul(a, c)\n",
    "    step2 = rec_mul(b, d)\n",
    "    step3 = rec_mul(a, d)\n",
    "    step4 = rec_mul(b, c)\n",
    "    rslt = 10**len(x) * step1 + 10**(len(x)//2) * (step3+step4) + step2\n",
    "    return rslt"
   ]
  },
  {
   "cell_type": "code",
   "execution_count": 2,
   "metadata": {},
   "outputs": [
    {
     "data": {
      "text/plain": [
       "999999890000001"
      ]
     },
     "execution_count": 2,
     "metadata": {},
     "output_type": "execute_result"
    }
   ],
   "source": [
    "rec_mul(9999999, 99999999)"
   ]
  },
  {
   "cell_type": "code",
   "execution_count": 98,
   "metadata": {},
   "outputs": [
    {
     "name": "stdout",
     "output_type": "stream",
     "text": [
      "39.5 µs ± 965 ns per loop (mean ± std. dev. of 7 runs, 10000 loops each)\n"
     ]
    }
   ],
   "source": [
    "%timeit rec_mul(12345, 12)"
   ]
  },
  {
   "cell_type": "code",
   "execution_count": 95,
   "metadata": {},
   "outputs": [
    {
     "name": "stdout",
     "output_type": "stream",
     "text": [
      "76.6 µs ± 1.53 µs per loop (mean ± std. dev. of 7 runs, 10000 loops each)\n"
     ]
    }
   ],
   "source": [
    "%timeit rec_mul(12345, 12345)"
   ]
  },
  {
   "cell_type": "code",
   "execution_count": 96,
   "metadata": {},
   "outputs": [
    {
     "name": "stdout",
     "output_type": "stream",
     "text": [
      "170 µs ± 1.75 µs per loop (mean ± std. dev. of 7 runs, 10000 loops each)\n"
     ]
    }
   ],
   "source": [
    "%timeit rec_mul(12345678, 12345678)"
   ]
  },
  {
   "cell_type": "code",
   "execution_count": 84,
   "metadata": {},
   "outputs": [
    {
     "name": "stdout",
     "output_type": "stream",
     "text": [
      "103 µs ± 2.56 µs per loop (mean ± std. dev. of 7 runs, 10000 loops each)\n"
     ]
    }
   ],
   "source": [
    "%timeit rec_mul(9999999, 99999999)"
   ]
  },
  {
   "cell_type": "code",
   "execution_count": 34,
   "metadata": {
    "scrolled": true
   },
   "outputs": [
    {
     "name": "stdout",
     "output_type": "stream",
     "text": [
      "6.5 ms ± 69.7 µs per loop (mean ± std. dev. of 7 runs, 100 loops each)\n"
     ]
    }
   ],
   "source": [
    "%timeit rec_mul(3141592653589793238462643383279502884197169399375105820974944592, 2718281828459045235360287471352662497757247093699959574966967627)"
   ]
  },
  {
   "cell_type": "markdown",
   "metadata": {},
   "source": [
    "### Bruteforce Multiplication Algorithm from 3rd Grade"
   ]
  },
  {
   "cell_type": "code",
   "execution_count": 18,
   "metadata": {},
   "outputs": [],
   "source": [
    "def multiply(x, y):\n",
    "    x = str(x)\n",
    "    y = str(y)\n",
    "    if len(x) < len(y):\n",
    "            x, y = y, x\n",
    "    if len(x) == 1 or len(y) == 1:\n",
    "        total = ''\n",
    "        temp = 0\n",
    "        x = x[::-1]\n",
    "        i = 0\n",
    "        for digit in x:\n",
    "            carry = 0\n",
    "            prod = str(int(digit) * int(y))\n",
    "            if temp:\n",
    "                prod = str(int(prod) + int(temp))\n",
    "            if len(prod) == 2:\n",
    "                carry = prod[0]\n",
    "                prod = prod[1]\n",
    "            temp = carry\n",
    "            if i == len(x)-1 and carry:\n",
    "                total = carry + prod + total\n",
    "            else:\n",
    "                total = prod + total\n",
    "            i += 1\n",
    "        return total\n",
    "    product = []\n",
    "    y = y[::-1]\n",
    "    for i in range(len(y)):\n",
    "        rslt = multiply(x, y[i])\n",
    "        for j in range(i):\n",
    "            rslt += '0'\n",
    "        product.append(rslt)\n",
    "    lngth = [len(ele) for ele in product]\n",
    "    max_lngth = max(lngth)\n",
    "    total = ''\n",
    "    carry1 = 0\n",
    "    for i in range(max_lngth+1):\n",
    "        sm = 0\n",
    "        carry2 = 0\n",
    "        carry3 = 0\n",
    "        for j in range(len(product)):\n",
    "            if i > len(product[j])-1:\n",
    "                temp1 = 0\n",
    "            else:\n",
    "                temp1 = product[j][-(i+1)]\n",
    "            sm = str(int(sm) + int(temp1) + int(carry2+'0')) if carry2 else str(int(sm) + int(temp1))\n",
    "            if int(carry1):\n",
    "                sm = str(int(sm)+int(carry1))\n",
    "                carry1 = 0\n",
    "            if len(sm) == 2:\n",
    "                carry2 = sm[0]\n",
    "                sm = sm[1]\n",
    "            else:\n",
    "                carry2 = 0\n",
    "        if carry1:\n",
    "            sm = str(int(sm) + int(carry1))\n",
    "        if len(sm) >= 2:\n",
    "            carry3 = sm[:-1]\n",
    "            sm = sm[-1]\n",
    "        carry1 = str(int(carry2) + int(carry3))\n",
    "        if i == max_lngth and not int(sm):\n",
    "            break\n",
    "        total = sm + total\n",
    "    if int(carry1):\n",
    "        total = carry1 + sm + total\n",
    "    return int(total)"
   ]
  },
  {
   "cell_type": "code",
   "execution_count": 2,
   "metadata": {},
   "outputs": [
    {
     "data": {
      "text/plain": [
       "999999890000001"
      ]
     },
     "execution_count": 2,
     "metadata": {},
     "output_type": "execute_result"
    }
   ],
   "source": [
    "multiply(9999999, 99999999)"
   ]
  },
  {
   "cell_type": "code",
   "execution_count": 20,
   "metadata": {},
   "outputs": [
    {
     "name": "stdout",
     "output_type": "stream",
     "text": [
      "20.7 µs ± 479 ns per loop (mean ± std. dev. of 7 runs, 10000 loops each)\n"
     ]
    }
   ],
   "source": [
    "%timeit multiply(12345, 12)"
   ]
  },
  {
   "cell_type": "code",
   "execution_count": 21,
   "metadata": {},
   "outputs": [
    {
     "name": "stdout",
     "output_type": "stream",
     "text": [
      "61.3 µs ± 1.28 µs per loop (mean ± std. dev. of 7 runs, 10000 loops each)\n"
     ]
    }
   ],
   "source": [
    "%timeit multiply(12345, 12345)"
   ]
  },
  {
   "cell_type": "code",
   "execution_count": 78,
   "metadata": {},
   "outputs": [
    {
     "name": "stdout",
     "output_type": "stream",
     "text": [
      "184 µs ± 2.87 µs per loop (mean ± std. dev. of 7 runs, 10000 loops each)\n"
     ]
    }
   ],
   "source": [
    "%timeit multiply(12345678, 12345678)"
   ]
  },
  {
   "cell_type": "code",
   "execution_count": 81,
   "metadata": {},
   "outputs": [
    {
     "name": "stdout",
     "output_type": "stream",
     "text": [
      "180 µs ± 10.7 µs per loop (mean ± std. dev. of 7 runs, 10000 loops each)\n"
     ]
    }
   ],
   "source": [
    "%timeit multiply(9999999, 99999999)"
   ]
  },
  {
   "cell_type": "code",
   "execution_count": 35,
   "metadata": {},
   "outputs": [
    {
     "name": "stdout",
     "output_type": "stream",
     "text": [
      "11.1 ms ± 702 µs per loop (mean ± std. dev. of 7 runs, 100 loops each)\n"
     ]
    }
   ],
   "source": [
    "%timeit multiply(3141592653589793238462643383279502884197169399375105820974944592, 2718281828459045235360287471352662497757247093699959574966967627)"
   ]
  },
  {
   "cell_type": "code",
   "execution_count": 19,
   "metadata": {},
   "outputs": [
    {
     "data": {
      "text/plain": [
       "8539734222673567065463550869546574495034888535765114961879601127067743044893204848617875072216249073013374895871952806582723184"
      ]
     },
     "execution_count": 19,
     "metadata": {},
     "output_type": "execute_result"
    }
   ],
   "source": [
    "multiply(3141592653589793238462643383279502884197169399375105820974944592, 2718281828459045235360287471352662497757247093699959574966967627)"
   ]
  },
  {
   "cell_type": "markdown",
   "metadata": {},
   "source": [
    "### Inversion Count in an Array (Collaborative Filtering)"
   ]
  },
  {
   "cell_type": "markdown",
   "metadata": {},
   "source": [
    "#### Divide and Conquer Approach - [$O(nlog(n))$]"
   ]
  },
  {
   "cell_type": "code",
   "execution_count": 32,
   "metadata": {},
   "outputs": [],
   "source": [
    "def inversion_count(arr):\n",
    "    if len(arr) == 1:\n",
    "        return 0, [arr[0]]\n",
    "    low = 0\n",
    "    high = len(arr)\n",
    "    mid = (low+high)//2\n",
    "    cnt1, left_arr = inversion_count(arr[:mid])\n",
    "    cnt2, right_arr = inversion_count(arr[mid:])\n",
    "    cnt = cnt1 + cnt2\n",
    "    sorted_arr = []\n",
    "    cnt3 = 0\n",
    "    i, j = 0, 0\n",
    "    while i < len(left_arr) and j < len(right_arr):\n",
    "        if left_arr[i] <= right_arr[j]:\n",
    "            sorted_arr.append(left_arr[i])\n",
    "            i += 1\n",
    "        else:\n",
    "            sorted_arr.append(right_arr[j])\n",
    "            j += 1\n",
    "            cnt3 += len(left_arr)-i\n",
    "    while i < len(left_arr):\n",
    "        sorted_arr.append(left_arr[i])\n",
    "        i += 1\n",
    "    while j < len(right_arr):\n",
    "        sorted_arr.append(right_arr[j])\n",
    "        j += 1\n",
    "    return cnt1+cnt2+cnt3, sorted_arr"
   ]
  },
  {
   "cell_type": "code",
   "execution_count": 63,
   "metadata": {
    "scrolled": false
   },
   "outputs": [
    {
     "name": "stdout",
     "output_type": "stream",
     "text": [
      "16.5 µs ± 1.01 µs per loop (mean ± std. dev. of 7 runs, 100000 loops each)\n"
     ]
    }
   ],
   "source": [
    "arr = [1, 8, 9, 10, 2, 4, 7, 5, 6, 3]\n",
    "%timeit inversion_count(arr)"
   ]
  },
  {
   "cell_type": "markdown",
   "metadata": {},
   "source": [
    "#### Brute Force Approach -  [$O(n^{2})$]"
   ]
  },
  {
   "cell_type": "code",
   "execution_count": 21,
   "metadata": {},
   "outputs": [],
   "source": [
    "def inversion_count2(arr):\n",
    "    cnt = 0\n",
    "    for i in range(len(arr)-1):\n",
    "        for j in range(i+1, len(arr)):\n",
    "            if arr[i] > arr[j]:\n",
    "                cnt += 1\n",
    "    return cnt"
   ]
  },
  {
   "cell_type": "code",
   "execution_count": 23,
   "metadata": {},
   "outputs": [
    {
     "name": "stdout",
     "output_type": "stream",
     "text": [
      "5.89 µs ± 1.16 µs per loop (mean ± std. dev. of 7 runs, 100000 loops each)\n"
     ]
    }
   ],
   "source": [
    "arr = [1, 8, 9, 10, 2, 4, 7, 5, 6, 3]\n",
    "%timeit inversion_count2(arr)"
   ]
  },
  {
   "cell_type": "markdown",
   "metadata": {},
   "source": [
    "#### Performance Comparision on a random list of 10000 integers"
   ]
  },
  {
   "cell_type": "code",
   "execution_count": 56,
   "metadata": {},
   "outputs": [],
   "source": [
    "from random import randint\n",
    "lst = [randint(0, 1000000) for i in range(10000)]"
   ]
  },
  {
   "cell_type": "code",
   "execution_count": 65,
   "metadata": {},
   "outputs": [
    {
     "name": "stdout",
     "output_type": "stream",
     "text": [
      "46.6 ms ± 2.4 ms per loop (mean ± std. dev. of 7 runs, 10 loops each)\n"
     ]
    }
   ],
   "source": [
    "%timeit inversion_count(lst)"
   ]
  },
  {
   "cell_type": "code",
   "execution_count": 62,
   "metadata": {},
   "outputs": [
    {
     "name": "stdout",
     "output_type": "stream",
     "text": [
      "3.15 s ± 73.5 ms per loop (mean ± std. dev. of 7 runs, 1 loop each)\n"
     ]
    }
   ],
   "source": [
    "# Brute Force Solution\n",
    "%timeit inversion_count2(lst)"
   ]
  },
  {
   "cell_type": "markdown",
   "metadata": {},
   "source": [
    "## Matrix Multiplication"
   ]
  },
  {
   "cell_type": "markdown",
   "metadata": {},
   "source": [
    "#### Brute Force"
   ]
  },
  {
   "cell_type": "code",
   "execution_count": 29,
   "metadata": {},
   "outputs": [],
   "source": [
    "def matrix_mul1(a, b):\n",
    "    prod = []\n",
    "    for i in range(len(a)):\n",
    "        rslt = []\n",
    "        for k in range(len(b[0])):\n",
    "            total = 0\n",
    "            for j in range(len(b)):\n",
    "                total += a[i][j]*b[j][k]\n",
    "            rslt.append(total)\n",
    "        prod.append(rslt)\n",
    "    return prod"
   ]
  },
  {
   "cell_type": "code",
   "execution_count": 92,
   "metadata": {
    "scrolled": true
   },
   "outputs": [
    {
     "data": {
      "text/plain": [
       "[[1, 4, 5], [4, 13, 14], [7, 22, 23]]"
      ]
     },
     "execution_count": 92,
     "metadata": {},
     "output_type": "execute_result"
    }
   ],
   "source": [
    "a = [[1, 2, 3], [4, 5, 6], [7, 8, 9]]\n",
    "b = [[1, 2, 2], [0, 1, 0], [0, 0, 1]]\n",
    "matrix_mul1(a, b)"
   ]
  },
  {
   "cell_type": "code",
   "execution_count": 7,
   "metadata": {},
   "outputs": [],
   "source": [
    "def matrix_mul2(arr1, arr2):\n",
    "    arr2 = [[arr2[i][j] for i in range(len(arr2[0]))] for j in range(len(arr2))]\n",
    "    def multiply(a, b):\n",
    "        total = 0\n",
    "        for i in range(len(a)):\n",
    "            total += a[i]*b[i]\n",
    "        return total\n",
    "    prod = []\n",
    "    for i in range(len(arr1)):\n",
    "        rslt = []\n",
    "        for j in range(len(arr2)):\n",
    "            rslt.append(multiply(arr1[i], arr2[j]))\n",
    "        prod.append(rslt)\n",
    "    return prod"
   ]
  },
  {
   "cell_type": "code",
   "execution_count": 8,
   "metadata": {},
   "outputs": [
    {
     "data": {
      "text/plain": [
       "[[1, 4, 5], [4, 13, 14], [7, 22, 23]]"
      ]
     },
     "execution_count": 8,
     "metadata": {},
     "output_type": "execute_result"
    }
   ],
   "source": [
    "a = [[1, 2, 3], [4, 5, 6], [7, 8, 9]]\n",
    "b = [[1, 2, 2], [0, 1, 0], [0, 0, 1]]\n",
    "matrix_mul2(a, b)"
   ]
  },
  {
   "cell_type": "markdown",
   "metadata": {},
   "source": [
    "#### Matrix Multiplication using Recursion (Divide and Conquer Approach) [$n * n$ matrix with $n$ as a power of 2]"
   ]
  },
  {
   "cell_type": "code",
   "execution_count": 23,
   "metadata": {},
   "outputs": [],
   "source": [
    "def matrix_mul_recurse(arr1, arr2):\n",
    "    if len(arr1[0])==1 and len(arr2[0])==1:\n",
    "        return [[arr1[0][0]*arr2[0][0]]]\n",
    "    def add_matrix(a1, a2):\n",
    "        added = []\n",
    "        for i in range(len(a1)):\n",
    "            rslt = []\n",
    "            for j in range(len(a1[0])):\n",
    "                rslt.append(a1[i][j]+a2[i][j])\n",
    "            added.append(rslt)\n",
    "        return added\n",
    "    a = [arr1[i][:len(arr1[0])//2] for i in range(len(arr1)//2)]\n",
    "    b = [arr1[i][len(arr1[0])//2:] for i in range(len(arr1)//2)]\n",
    "    c = [arr1[i][:len(arr1[0])//2] for i in range(len(arr1)//2, len(arr1))]\n",
    "    d = [arr1[i][len(arr1[0])//2:] for i in range(len(arr1)//2, len(arr1))]\n",
    "    e = [arr2[i][:len(arr2[0])//2] for i in range(len(arr2)//2)]\n",
    "    f = [arr2[i][len(arr2[0])//2:] for i in range(len(arr2)//2)]\n",
    "    g = [arr2[i][:len(arr2[0])//2] for i in range(len(arr2)//2, len(arr2))]\n",
    "    h = [arr2[i][len(arr2[0])//2:] for i in range(len(arr2)//2, len(arr2))]\n",
    "    p1 = matrix_mul_recurse(a, e)\n",
    "    p2 = matrix_mul_recurse(b, g)\n",
    "    p3 = matrix_mul_recurse(a, f)\n",
    "    p4 = matrix_mul_recurse(b, h)\n",
    "    p5 = matrix_mul_recurse(c, e)\n",
    "    p6 = matrix_mul_recurse(d, g)\n",
    "    p7 = matrix_mul_recurse(c, f)\n",
    "    p8 = matrix_mul_recurse(d, h)\n",
    "    term1 = add_matrix(p1, p2)\n",
    "    term2 = add_matrix(p3, p4)\n",
    "    term3 = add_matrix(p5, p6)\n",
    "    term4 = add_matrix(p7, p8)\n",
    "    rslt = []\n",
    "    for ele1, ele2 in zip(term1, term2):\n",
    "            rslt.append(ele1+ele2)\n",
    "    for ele1, ele2 in zip(term3, term4):\n",
    "        rslt.append(ele1+ele2)\n",
    "    return rslt"
   ]
  },
  {
   "cell_type": "code",
   "execution_count": 29,
   "metadata": {},
   "outputs": [
    {
     "name": "stdout",
     "output_type": "stream",
     "text": [
      "115 µs ± 7.49 µs per loop (mean ± std. dev. of 7 runs, 10000 loops each)\n"
     ]
    }
   ],
   "source": [
    "arr1 = [[1, 2, 3, 4], [5, 6, 7, 8], [9, 10, 11, 12], [4, 3, 2, 1]]\n",
    "arr2 = [[1, 0, 0, 1], [1, 0, 1, 0], [0, 0, 1, 1], [0, 1, 0, 1]]\n",
    "%timeit matrix_mul_recurse(arr1, arr2)"
   ]
  },
  {
   "cell_type": "markdown",
   "metadata": {},
   "source": [
    "#### Strassen Algorithm for Matrix Multiplication (Divide and Conquer Approach) [$n * n$ matrix with $n$ as a power of 2]"
   ]
  },
  {
   "cell_type": "code",
   "execution_count": 31,
   "metadata": {},
   "outputs": [],
   "source": [
    "def strassen_matrix_mul(arr1, arr2):\n",
    "    if len(arr1[0])==1 and len(arr2[0])==1:\n",
    "        return [[arr1[0][0]*arr2[0][0]]]\n",
    "    def add_matrix(a1, a2):\n",
    "        added = []\n",
    "        for i in range(len(a1)):\n",
    "            rslt = []\n",
    "            for j in range(len(a1[0])):\n",
    "                rslt.append(a1[i][j]+a2[i][j])\n",
    "            added.append(rslt)\n",
    "        return added\n",
    "    def sub_matrix(a1, a2):\n",
    "        subtract = []\n",
    "        for i in range(len(a1)):\n",
    "            rslt = []\n",
    "            for j in range(len(a1[0])):\n",
    "                rslt.append(a1[i][j]-a2[i][j])\n",
    "            subtract.append(rslt)\n",
    "        return subtract\n",
    "    a = [arr1[i][:len(arr1[0])//2] for i in range(len(arr1)//2)]\n",
    "    b = [arr1[i][len(arr1[0])//2:] for i in range(len(arr1)//2)]\n",
    "    c = [arr1[i][:len(arr1[0])//2] for i in range(len(arr1)//2, len(arr1))]\n",
    "    d = [arr1[i][len(arr1[0])//2:] for i in range(len(arr1)//2, len(arr1))]\n",
    "    e = [arr2[i][:len(arr2[0])//2] for i in range(len(arr2)//2)]\n",
    "    f = [arr2[i][len(arr2[0])//2:] for i in range(len(arr2)//2)]\n",
    "    g = [arr2[i][:len(arr2[0])//2] for i in range(len(arr2)//2, len(arr2))]\n",
    "    h = [arr2[i][len(arr2[0])//2:] for i in range(len(arr2)//2, len(arr2))]\n",
    "    p1 = strassen_matrix_mul(a, sub_matrix(f, h))\n",
    "    p2 = strassen_matrix_mul(add_matrix(a, b), h)\n",
    "    p3 = strassen_matrix_mul(add_matrix(c, d), e)\n",
    "    p4 = strassen_matrix_mul(d, sub_matrix(g, e))\n",
    "    p5 = strassen_matrix_mul(add_matrix(a, d), add_matrix(e, h))\n",
    "    p6 = strassen_matrix_mul(sub_matrix(b, d), add_matrix(g, h))\n",
    "    p7 = strassen_matrix_mul(sub_matrix(a, c), add_matrix(e, f))\n",
    "    term1 = sub_matrix(add_matrix(add_matrix(p5, p4), p6), p2)\n",
    "    term2 = add_matrix(p1, p2)\n",
    "    term3 = add_matrix(p3, p4)\n",
    "    term4 = sub_matrix(add_matrix(p1, p5), add_matrix(p3, p7))\n",
    "    rslt = []\n",
    "    for ele1, ele2 in zip(term1, term2):\n",
    "            rslt.append(ele1+ele2)\n",
    "    for ele1, ele2 in zip(term3, term4):\n",
    "        rslt.append(ele1+ele2)\n",
    "    return rslt"
   ]
  },
  {
   "cell_type": "code",
   "execution_count": 33,
   "metadata": {},
   "outputs": [
    {
     "name": "stdout",
     "output_type": "stream",
     "text": [
      "205 µs ± 2.41 µs per loop (mean ± std. dev. of 7 runs, 1000 loops each)\n"
     ]
    }
   ],
   "source": [
    "arr1 = [[1, 2, 3, 4], [5, 6, 7, 8], [9, 10, 11, 12], [4, 3, 2, 1]]\n",
    "arr2 = [[1, 0, 0, 1], [1, 0, 1, 0], [0, 0, 1, 1], [0, 1, 0, 1]]\n",
    "%timeit strassen_matrix_mul(arr1, arr2)"
   ]
  },
  {
   "cell_type": "markdown",
   "metadata": {},
   "source": [
    "#### Make any two matrices that are not powers of 2 to powers of 2\n",
    "#### [$m * n$ matrix with either $m$ or $n$ as a power of 2 or both $m$ and $n$ are not powers of 2] -> [$n * n$ matrix with $n$ as power of 2]"
   ]
  },
  {
   "cell_type": "code",
   "execution_count": 20,
   "metadata": {},
   "outputs": [],
   "source": [
    "def raise_to_power2(x, y):\n",
    "    from math import log\n",
    "    if len(x) < len(y):\n",
    "        x += [[0 for j in range(len(x[0]))] for i in range(len(y)-len(x))]\n",
    "    elif len(y) < len(x):\n",
    "        y += [[0 for j in range(len(y[0]))] for i in range(len(x)-len(y))]\n",
    "    if len(x[0]) < len(y[0]):\n",
    "        for i in range(len(x)):\n",
    "            for j in range(len(y[i])-len(x[i])):\n",
    "                x[i].append(0)\n",
    "    elif len(y[0]) < len(x[0]):\n",
    "        for i in range(len(y)):\n",
    "            for j in range(len(x[i])-len(y[i])):\n",
    "                y[i].append(0)\n",
    "    for arr in x, y:\n",
    "        if len(arr) >= len(arr[0]):\n",
    "            size = len(arr)\n",
    "            if ((size != 0) and (size & (size - 1))):\n",
    "                ideal_size = 2 ** (int(log(size, 2)) + 1)\n",
    "                arr += [[0 for j in range(len(arr[0]))] for i in range(ideal_size-size)]\n",
    "            else:\n",
    "                ideal_size = size\n",
    "            for i in range(len(arr)):\n",
    "                for j in range(ideal_size-len(arr[i])):\n",
    "                    arr[i].append(0)\n",
    "        else:\n",
    "            size = len(arr[0])\n",
    "            if ((size != 0) and (size & (size - 1))):\n",
    "                ideal_size = 2 ** (int(log(size, 2)) + 1)\n",
    "                for i in range(len(arr)):\n",
    "                    for j in range(ideal_size-len(arr[i])):\n",
    "                        arr[i].append(0)\n",
    "            else:\n",
    "                ideal_size = size\n",
    "            arr += [[0 for j in range(len(arr[0]))] for i in range(ideal_size-len(arr))]\n",
    "    return x, y"
   ]
  },
  {
   "cell_type": "code",
   "execution_count": 14,
   "metadata": {},
   "outputs": [
    {
     "data": {
      "text/plain": [
       "([[1, 2, 0, 0], [0, 0, 0, 0], [0, 0, 0, 0], [0, 0, 0, 0]],\n",
       " [[1, 2, 3, 4], [5, 6, 7, 8], [9, 10, 11, 12], [0, 0, 0, 0]])"
      ]
     },
     "execution_count": 14,
     "metadata": {},
     "output_type": "execute_result"
    }
   ],
   "source": [
    "arr1 = [[1, 2]]\n",
    "arr2 = [[1, 2, 3, 4], [5, 6, 7, 8], [9, 10, 11, 12]]\n",
    "raise_to_power2(arr1, arr2)"
   ]
  },
  {
   "cell_type": "code",
   "execution_count": 15,
   "metadata": {},
   "outputs": [
    {
     "data": {
      "text/plain": [
       "([[1, 2, 3, 0], [4, 5, 6, 0], [0, 0, 0, 0], [0, 0, 0, 0]],\n",
       " [[1, 1, 0, 0], [1, 1, 0, 0], [1, 1, 0, 0], [0, 0, 0, 0]])"
      ]
     },
     "execution_count": 15,
     "metadata": {},
     "output_type": "execute_result"
    }
   ],
   "source": [
    "arr1 = [[1, 2, 3], [4, 5, 6]]\n",
    "arr2 = [[1, 1], [1, 1], [1, 1]]\n",
    "raise_to_power2(arr1, arr2)"
   ]
  },
  {
   "cell_type": "markdown",
   "metadata": {},
   "source": [
    "#### Making Strassen's algorithm applicable to any two matrices that are multipliable [columns of 1st matrix == rows of 2nd matrix]\n",
    "For matrices that are even or uneven [$m * n$ matrix with either $m$ or $n$ as a power of 2 or both $m$ and $n$ are not powers of 2]"
   ]
  },
  {
   "cell_type": "code",
   "execution_count": 7,
   "metadata": {},
   "outputs": [],
   "source": [
    "def strassen_matrix_mul(arr1, arr2):\n",
    "    if len(arr1[0]) != len(arr2):\n",
    "        raise ValueError(\"Can't multiply as columns in 1st matrix not matched with rows in 2nd matrix\")\n",
    "    def raise_to_power2(x, y):\n",
    "        from math import log\n",
    "        if len(x) < len(y):\n",
    "            x += [[0 for j in range(len(x[0]))] for i in range(len(y)-len(x))]\n",
    "        elif len(y) < len(x):\n",
    "            y += [[0 for j in range(len(y[0]))] for i in range(len(x)-len(y))]\n",
    "        if len(x[0]) < len(y[0]):\n",
    "            for i in range(len(x)):\n",
    "                for j in range(len(y[i])-len(x[i])):\n",
    "                    x[i].append(0)\n",
    "        elif len(y[0]) < len(x[0]):\n",
    "            for i in range(len(y)):\n",
    "                for j in range(len(x[i])-len(y[i])):\n",
    "                    y[i].append(0)\n",
    "        for arr in x, y:\n",
    "            if len(arr) >= len(arr[0]):\n",
    "                size = len(arr)\n",
    "                if ((size != 0) and (size & (size - 1))):\n",
    "                    ideal_size = 2 ** (int(log(size, 2)) + 1)\n",
    "                    arr += [[0 for j in range(len(arr[0]))] for i in range(ideal_size-size)]\n",
    "                else:\n",
    "                    ideal_size = size\n",
    "                for i in range(len(arr)):\n",
    "                    for j in range(ideal_size-len(arr[i])):\n",
    "                        arr[i].append(0)\n",
    "            else:\n",
    "                size = len(arr[0])\n",
    "                if ((size != 0) and (size & (size - 1))):\n",
    "                    ideal_size = 2 ** (int(log(size, 2)) + 1)\n",
    "                    for i in range(len(arr)):\n",
    "                        for j in range(ideal_size-len(arr[i])):\n",
    "                            arr[i].append(0)\n",
    "                else:\n",
    "                    ideal_size = size\n",
    "                arr += [[0 for j in range(len(arr[0]))] for i in range(ideal_size-len(arr))]\n",
    "        return x, y\n",
    "    def add_matrix(a1, a2):\n",
    "        added = []\n",
    "        for i in range(len(a1)):\n",
    "            rslt = []\n",
    "            for j in range(len(a1[0])):\n",
    "                rslt.append(a1[i][j]+a2[i][j])\n",
    "            added.append(rslt)\n",
    "        return added\n",
    "    def sub_matrix(a1, a2):\n",
    "        subtract = []\n",
    "        for i in range(len(a1)):\n",
    "            rslt = []\n",
    "            for j in range(len(a1[0])):\n",
    "                rslt.append(a1[i][j]-a2[i][j])\n",
    "            subtract.append(rslt)\n",
    "        return subtract\n",
    "    if len(arr1[0])==1 and len(arr2[0])==1:\n",
    "        return [[arr1[0][0]*arr2[0][0]]]\n",
    "    arr1, arr2 = raise_to_power2(arr1, arr2)\n",
    "    a = [arr1[i][:len(arr1[0])//2] for i in range(len(arr1)//2)]\n",
    "    b = [arr1[i][len(arr1[0])//2:] for i in range(len(arr1)//2)]\n",
    "    c = [arr1[i][:len(arr1[0])//2] for i in range(len(arr1)//2, len(arr1))]\n",
    "    d = [arr1[i][len(arr1[0])//2:] for i in range(len(arr1)//2, len(arr1))]\n",
    "    e = [arr2[i][:len(arr2[0])//2] for i in range(len(arr2)//2)]\n",
    "    f = [arr2[i][len(arr2[0])//2:] for i in range(len(arr2)//2)]\n",
    "    g = [arr2[i][:len(arr2[0])//2] for i in range(len(arr2)//2, len(arr2))]\n",
    "    h = [arr2[i][len(arr2[0])//2:] for i in range(len(arr2)//2, len(arr2))]\n",
    "    p1 = strassen_matrix_mul(a, sub_matrix(f, h))\n",
    "    p2 = strassen_matrix_mul(add_matrix(a, b), h)\n",
    "    p3 = strassen_matrix_mul(add_matrix(c, d), e)\n",
    "    p4 = strassen_matrix_mul(d, sub_matrix(g, e))\n",
    "    p5 = strassen_matrix_mul(add_matrix(a, d), add_matrix(e, h))\n",
    "    p6 = strassen_matrix_mul(sub_matrix(b, d), add_matrix(g, h))\n",
    "    p7 = strassen_matrix_mul(sub_matrix(a, c), add_matrix(e, f))\n",
    "    term1 = sub_matrix(add_matrix(add_matrix(p5, p4), p6), p2)\n",
    "    term2 = add_matrix(p1, p2)\n",
    "    term3 = add_matrix(p3, p4)\n",
    "    term4 = sub_matrix(add_matrix(p1, p5), add_matrix(p3, p7))\n",
    "    rslt = []\n",
    "    for ele1, ele2 in zip(term1, term2):\n",
    "            rslt.append(ele1+ele2)\n",
    "    for ele1, ele2 in zip(term3, term4):\n",
    "        rslt.append(ele1+ele2)\n",
    "    return rslt"
   ]
  },
  {
   "cell_type": "code",
   "execution_count": 130,
   "metadata": {},
   "outputs": [
    {
     "data": {
      "text/plain": [
       "[[38, 44, 50, 56], [0, 0, 0, 0], [0, 0, 0, 0], [0, 0, 0, 0]]"
      ]
     },
     "execution_count": 130,
     "metadata": {},
     "output_type": "execute_result"
    }
   ],
   "source": [
    "arr1 = [[1, 2, 3]]\n",
    "arr2 = [[1, 2, 3, 4], [5, 6, 7, 8], [9, 10, 11, 12]]\n",
    "strassen_matrix_mul(arr1, arr2)"
   ]
  },
  {
   "cell_type": "code",
   "execution_count": 133,
   "metadata": {},
   "outputs": [
    {
     "data": {
      "text/plain": [
       "[[6, 6, 0, 0], [15, 15, 0, 0], [0, 0, 0, 0], [0, 0, 0, 0]]"
      ]
     },
     "execution_count": 133,
     "metadata": {},
     "output_type": "execute_result"
    }
   ],
   "source": [
    "arr1 = [[1, 2, 3], [4, 5, 6]]\n",
    "arr2 = [[1, 1], [1, 1], [1, 1]]\n",
    "strassen_matrix_mul(arr1, arr2)"
   ]
  },
  {
   "cell_type": "markdown",
   "metadata": {},
   "source": [
    "#### To remove unnecessary zeros from the above final result and get only those possible rows and columns "
   ]
  },
  {
   "cell_type": "code",
   "execution_count": 34,
   "metadata": {},
   "outputs": [],
   "source": [
    "def mod_strassen_matrix_mul(matrix1, matrix2, func=strassen_matrix_mul):\n",
    "    rows = len(matrix1)\n",
    "    columns = len(matrix2[0])\n",
    "    product = func(matrix1, matrix2)\n",
    "    final_prod = [[product[i][j] for j in range(columns)]for i in range(rows)]\n",
    "    return final_prod"
   ]
  },
  {
   "cell_type": "code",
   "execution_count": 11,
   "metadata": {},
   "outputs": [
    {
     "data": {
      "text/plain": [
       "[[38, 44, 50, 56]]"
      ]
     },
     "execution_count": 11,
     "metadata": {},
     "output_type": "execute_result"
    }
   ],
   "source": [
    "arr1 = [[1, 2, 3]]\n",
    "arr2 = [[1, 2, 3, 4], [5, 6, 7, 8], [9, 10, 11, 12]]\n",
    "mod_strassen_matrix_mul(arr1, arr2)"
   ]
  },
  {
   "cell_type": "code",
   "execution_count": 12,
   "metadata": {},
   "outputs": [
    {
     "data": {
      "text/plain": [
       "[[6, 6], [15, 15]]"
      ]
     },
     "execution_count": 12,
     "metadata": {},
     "output_type": "execute_result"
    }
   ],
   "source": [
    "arr1 = [[1, 2, 3], [4, 5, 6]]\n",
    "arr2 = [[1, 1], [1, 1], [1, 1]]\n",
    "mod_strassen_matrix_mul(arr1, arr2)"
   ]
  },
  {
   "cell_type": "markdown",
   "metadata": {},
   "source": [
    "## Closest Pair of points"
   ]
  },
  {
   "cell_type": "markdown",
   "metadata": {},
   "source": [
    "#### Brute Force Method"
   ]
  },
  {
   "cell_type": "code",
   "execution_count": 49,
   "metadata": {},
   "outputs": [],
   "source": [
    "def closest_pair_brute(arr):\n",
    "    smallest_dist = float('inf')\n",
    "    for i in range(len(arr)-1):\n",
    "        for j in range(i+1, len(arr)):\n",
    "            dist = (arr[i][0]-arr[j][0])**2 + (arr[i][1]-arr[j][1])**2\n",
    "            if dist < smallest_dist:\n",
    "                smallest_dist = dist\n",
    "                closest_pair = [[arr[i], arr[j]]]\n",
    "            elif dist == smallest_dist:\n",
    "                closest_pair.append([arr[i], arr[j]])\n",
    "    return closest_pair"
   ]
  },
  {
   "cell_type": "code",
   "execution_count": 50,
   "metadata": {},
   "outputs": [
    {
     "data": {
      "text/plain": [
       "[[[1, 2], [0, 2]], [[-1, 4], [-1, 3]]]"
      ]
     },
     "execution_count": 50,
     "metadata": {},
     "output_type": "execute_result"
    }
   ],
   "source": [
    "arr = [[1, 2], [3, 4], [5, 6], [-1, -2], [-1, 4], [0, 2], [-1, 3]]\n",
    "closest_pair_brute(arr)"
   ]
  },
  {
   "cell_type": "markdown",
   "metadata": {},
   "source": [
    "#### Closest Pair of points (1-Dimensional) [$O[nlog(n)$]"
   ]
  },
  {
   "cell_type": "code",
   "execution_count": 16,
   "metadata": {},
   "outputs": [],
   "source": [
    "def closest_pair_1D(arr):\n",
    "#   we are using python's default sorted method to sort the 'arr', \n",
    "#   instead you can use your own sort algorithm (for ex. Merge Sort)\n",
    "    arr = sorted(arr)\n",
    "    smallest_dist = float('inf')\n",
    "    for i in range(len(arr)-1):\n",
    "        dist = abs(arr[i]-arr[i+1])\n",
    "        if dist < smallest_dist:\n",
    "            smallest_dist = dist\n",
    "            closest_pair = [[arr[i], arr[i+1]]]\n",
    "        elif dist == smallest_dist:\n",
    "            closest_pair.append([arr[i], arr[i+1]])\n",
    "    return closest_pair"
   ]
  },
  {
   "cell_type": "code",
   "execution_count": 17,
   "metadata": {},
   "outputs": [
    {
     "data": {
      "text/plain": [
       "[[-2, -1], [1, 2], [2, 3], [3, 4]]"
      ]
     },
     "execution_count": 17,
     "metadata": {},
     "output_type": "execute_result"
    }
   ],
   "source": [
    "lst = [1, 2, -1, 4, 3, 6, -2]\n",
    "closest_pair_1D(lst)"
   ]
  },
  {
   "cell_type": "markdown",
   "metadata": {},
   "source": [
    "#### Closest Pair of points (2-Dimensional) [$O[nlog(n)$]"
   ]
  },
  {
   "cell_type": "code",
   "execution_count": 54,
   "metadata": {},
   "outputs": [],
   "source": [
    "def closest_pair_2D(arr_x, arr_y):\n",
    "    from math import sqrt\n",
    "    if len(arr_x) <= 3 and len(arr_y) <= 3:\n",
    "        closest_pair = []\n",
    "        smallest_dist = float('inf')\n",
    "        for i in range(len(arr_x)-1):\n",
    "            dist = sqrt((arr_x[i][0]-arr_x[i+1][0])**2 + (arr_x[i][1]-arr_x[i+1][1])**2)\n",
    "            if dist < smallest_dist:\n",
    "                smallest_dist = dist\n",
    "                closest_pair = [arr_x[i], arr_x[i+1]]\n",
    "        return smallest_dist, closest_pair\n",
    "    def closest_split_pair(arr_x, arr_y, delta):\n",
    "        median = arr_x[len(arr_x)//2-1]\n",
    "        S_y = [coord for coord in arr_y if median[0]-delta<=coord[0]<=median[0]+delta]\n",
    "        smallest_dist = delta\n",
    "        closest_pair = []\n",
    "        for i in range(len(S_y)-1):\n",
    "            for j in range(i+1, min(8, len(S_y)-i)):\n",
    "                dist = sqrt((S_y[i][0]-S_y[j][0])**2 + (S_y[i][1]-S_y[j][1])**2)\n",
    "                if dist < smallest_dist:\n",
    "                    smallest_dist = dist\n",
    "                    closest_pair = [S_y[i], S_y[j]]\n",
    "        return smallest_dist, closest_pair\n",
    "    mid = len(arr_x)//2\n",
    "    left_x = arr_x[:mid]\n",
    "    right_x = arr_x[mid//2:] # Doubt why mid//2. Instead of this, refer to golang closest pair algo. \n",
    "    median = left_x[mid-1]\n",
    "    left_y, right_y = [], []\n",
    "    for coord in arr_y:\n",
    "        if coord[0] <= median[0]:\n",
    "            left_y.append(coord)\n",
    "        else:\n",
    "            right_y.append(coord)\n",
    "    dist_l, closest_pair_l = closest_pair_2D(left_x, left_y)\n",
    "    dist_r, closest_pair_r = closest_pair_2D(right_x, right_y)\n",
    "    dist_s, closest_pair_s = closest_split_pair(arr_x, arr_y, min(dist_l, dist_r))\n",
    "    rslt = ([dist_l, closest_pair_l], [dist_r, closest_pair_r], [dist_s, closest_pair_s])\n",
    "    rslt = sorted(rslt, key=lambda k: k[0])\n",
    "    return rslt[0][0], rslt[0][1]"
   ]
  },
  {
   "cell_type": "code",
   "execution_count": 57,
   "metadata": {},
   "outputs": [],
   "source": [
    "def final_closest_pair_2D(arr, func=closest_pair_2D):\n",
    "#   we are using python's default sorted method to sort the 'arr', \n",
    "#   instead you can use your own sort algorithm (for ex. Merge Sort)\n",
    "    arr_x = sorted(arr, key=lambda k: k[0])\n",
    "    arr_y = sorted(arr, key=lambda k: k[1])\n",
    "    dist, closest_pair = func(arr_x, arr_y)\n",
    "    return dist, closest_pair"
   ]
  },
  {
   "cell_type": "code",
   "execution_count": 58,
   "metadata": {},
   "outputs": [
    {
     "data": {
      "text/plain": [
       "(1.4142135623730951, [[0, 1], [1, 2]])"
      ]
     },
     "execution_count": 58,
     "metadata": {},
     "output_type": "execute_result"
    }
   ],
   "source": [
    "lst = [[0, 1], [2, 3], [1, 2]]\n",
    "final_closest_pair_2D(lst)"
   ]
  },
  {
   "cell_type": "code",
   "execution_count": 59,
   "metadata": {},
   "outputs": [
    {
     "data": {
      "text/plain": [
       "(1.0, [[2, 1], [3, 1]])"
      ]
     },
     "execution_count": 59,
     "metadata": {},
     "output_type": "execute_result"
    }
   ],
   "source": [
    "lst = [[0, 1], [1, 2], [2, 4], [1, 0], [3, 1], [2, 1]]\n",
    "final_closest_pair_2D(lst)"
   ]
  },
  {
   "cell_type": "code",
   "execution_count": 60,
   "metadata": {},
   "outputs": [
    {
     "data": {
      "text/plain": [
       "(1.4142135623730951, [[2, 2], [3, 1]])"
      ]
     },
     "execution_count": 60,
     "metadata": {},
     "output_type": "execute_result"
    }
   ],
   "source": [
    "lst = [[0, 1], [2, 2], [3, 1], [5, 8]]\n",
    "final_closest_pair_2D(lst)"
   ]
  },
  {
   "cell_type": "code",
   "execution_count": 61,
   "metadata": {},
   "outputs": [
    {
     "data": {
      "text/plain": [
       "(1.0, [[0, 1], [1, 1]])"
      ]
     },
     "execution_count": 61,
     "metadata": {},
     "output_type": "execute_result"
    }
   ],
   "source": [
    "lst = [[0, 1], [1, 1], [2, 2], [2, 1], [3, 1], [4, 4]]\n",
    "final_closest_pair_2D(lst)"
   ]
  },
  {
   "cell_type": "code",
   "execution_count": 62,
   "metadata": {},
   "outputs": [
    {
     "data": {
      "text/plain": [
       "(1.4142135623730951, [(2, 3), (3, 4)])"
      ]
     },
     "execution_count": 62,
     "metadata": {},
     "output_type": "execute_result"
    }
   ],
   "source": [
    "lst = [(2, 3), (12, 30), (40, 50), (5, 1), (12, 10), (3, 4)]\n",
    "final_closest_pair_2D(lst)"
   ]
  },
  {
   "cell_type": "markdown",
   "metadata": {},
   "source": [
    "## Quick Sort (In-place Sort)"
   ]
  },
  {
   "cell_type": "code",
   "execution_count": 1,
   "metadata": {},
   "outputs": [],
   "source": [
    "def quick_sort(arr, left, right):\n",
    "    if left >= right:\n",
    "        return\n",
    "    from random import randint\n",
    "#     Random Pivot choosen\n",
    "    pivot = randint(left, right)\n",
    "    arr[left], arr[pivot] = arr[pivot], arr[left]\n",
    "    pivot = left\n",
    "    i, j = pivot+1, pivot+1\n",
    "    while j <= right:\n",
    "        if arr[j] < arr[pivot]:\n",
    "            arr[i], arr[j] = arr[j], arr[i]\n",
    "            i += 1\n",
    "        j += 1\n",
    "    arr[pivot], arr[i-1] = arr[i-1], arr[pivot]\n",
    "    pivot = i-1\n",
    "    quick_sort(arr, left, pivot-1)\n",
    "    quick_sort(arr, pivot+1, right)\n",
    "    return arr"
   ]
  },
  {
   "cell_type": "code",
   "execution_count": 25,
   "metadata": {},
   "outputs": [
    {
     "name": "stdout",
     "output_type": "stream",
     "text": [
      "12.5 µs ± 264 ns per loop (mean ± std. dev. of 7 runs, 100000 loops each)\n"
     ]
    }
   ],
   "source": [
    "arr = [3, 4, -5, 1, 6, 8, -2, -8]\n",
    "%timeit quick_sort(arr, 0, len(arr)-1)"
   ]
  },
  {
   "cell_type": "code",
   "execution_count": 26,
   "metadata": {},
   "outputs": [
    {
     "name": "stdout",
     "output_type": "stream",
     "text": [
      "12.6 µs ± 212 ns per loop (mean ± std. dev. of 7 runs, 100000 loops each)\n"
     ]
    }
   ],
   "source": [
    "arr = [8, 7, 6, 5, 4, 3, 2, 1]\n",
    "%timeit quick_sort(arr, 0, len(arr)-1)"
   ]
  },
  {
   "cell_type": "code",
   "execution_count": 27,
   "metadata": {},
   "outputs": [
    {
     "name": "stdout",
     "output_type": "stream",
     "text": [
      "12.5 µs ± 268 ns per loop (mean ± std. dev. of 7 runs, 100000 loops each)\n"
     ]
    }
   ],
   "source": [
    "arr = [1,2,3,4,5,6,7,8]\n",
    "%timeit quick_sort(arr, 0, len(arr)-1)"
   ]
  },
  {
   "cell_type": "code",
   "execution_count": 2,
   "metadata": {},
   "outputs": [
    {
     "data": {
      "text/plain": [
       "[38, 39, 42, 59, 59, 77, 83, 87, 91, 91, 98, 99]"
      ]
     },
     "execution_count": 2,
     "metadata": {},
     "output_type": "execute_result"
    }
   ],
   "source": [
    "lst = [59, 87, 39, 77, 59, 91, 42, 99, 83, 38, 98, 91]\n",
    "quick_sort(lst, 0, len(lst)-1)"
   ]
  },
  {
   "cell_type": "code",
   "execution_count": 11,
   "metadata": {},
   "outputs": [
    {
     "name": "stdout",
     "output_type": "stream",
     "text": [
      "19.9 µs ± 1.24 µs per loop (mean ± std. dev. of 7 runs, 100000 loops each)\n"
     ]
    }
   ],
   "source": [
    "lst = [59, 87, 39, 77, 59, 91, 42, 99, 83, 38, 98, 91]\n",
    "%timeit quick_sort(lst, 0, len(lst)-1)"
   ]
  },
  {
   "cell_type": "markdown",
   "metadata": {},
   "source": [
    "### RSelect Algorithm to find $i^{th}$ smallest element (order = i) [Best case - $O(n)$, Worst case - $O(n^{2})$]"
   ]
  },
  {
   "cell_type": "markdown",
   "metadata": {},
   "source": [
    "#### RSelect Method 1"
   ]
  },
  {
   "cell_type": "code",
   "execution_count": 178,
   "metadata": {},
   "outputs": [],
   "source": [
    "def rselect1(arr, left, right, order):\n",
    "    required_idx = order-1\n",
    "    if left >= right:\n",
    "        if right == required_idx:\n",
    "            return arr[right]\n",
    "        raise IndexError(\"Index with {}th order statistic can't be found\".format(order))\n",
    "    from random import randint\n",
    "    pivot = randint(left, right)\n",
    "    arr[left], arr[pivot] = arr[pivot], arr[left]\n",
    "    pivot = left\n",
    "    i, j = pivot+1, pivot+1\n",
    "    while j <= right:\n",
    "        if arr[j] <= arr[pivot]:\n",
    "            arr[i], arr[j] = arr[j], arr[i]\n",
    "            i += 1\n",
    "        j += 1\n",
    "    arr[pivot], arr[i-1] = arr[i-1], arr[pivot]\n",
    "    pivot = i-1\n",
    "    if pivot == required_idx:\n",
    "        return arr[pivot]\n",
    "    elif required_idx < pivot:\n",
    "        rslt = rselect1(arr, left, pivot-1, order)\n",
    "    else: # if required_idx > pivot\n",
    "        rslt = rselect1(arr, pivot+1, right, order)\n",
    "    return rslt"
   ]
  },
  {
   "cell_type": "code",
   "execution_count": 167,
   "metadata": {},
   "outputs": [
    {
     "name": "stdout",
     "output_type": "stream",
     "text": [
      "7.74 µs ± 1.15 µs per loop (mean ± std. dev. of 7 runs, 100000 loops each)\n"
     ]
    }
   ],
   "source": [
    "lst = [59, 87, 39, 77, 59, 91, 42, 99, 83, 38, 98, 91]\n",
    "%timeit rselect1(lst, 0, len(lst)-1, 12)"
   ]
  },
  {
   "cell_type": "markdown",
   "metadata": {},
   "source": [
    "#### RSelect Method 2"
   ]
  },
  {
   "cell_type": "code",
   "execution_count": 168,
   "metadata": {},
   "outputs": [],
   "source": [
    "def rselect2(arr, order):\n",
    "    required_idx = order-1\n",
    "    if len(arr) == 1:\n",
    "        return arr[0]\n",
    "    from random import randint\n",
    "    left = 0\n",
    "    right = len(arr)-1\n",
    "    pivot = randint(left, right)\n",
    "    arr[left], arr[pivot] = arr[pivot], arr[left]\n",
    "    pivot = left\n",
    "    i, j = pivot+1, pivot+1\n",
    "    while j <= len(arr)-1:\n",
    "        if arr[j] <= arr[pivot]:\n",
    "            arr[i], arr[j] = arr[j], arr[i]\n",
    "            i += 1\n",
    "        j += 1\n",
    "    arr[pivot], arr[i-1] = arr[i-1], arr[pivot]\n",
    "    pivot = i-1\n",
    "    if pivot == required_idx:\n",
    "        return arr[pivot]\n",
    "    elif required_idx < pivot:\n",
    "        rslt = rselect2(arr[:pivot], order)\n",
    "    elif required_idx > pivot:\n",
    "        rslt = rselect2(arr[pivot+1:], order-pivot-1)\n",
    "    return rslt"
   ]
  },
  {
   "cell_type": "code",
   "execution_count": 169,
   "metadata": {},
   "outputs": [
    {
     "name": "stdout",
     "output_type": "stream",
     "text": [
      "9.31 µs ± 1.34 µs per loop (mean ± std. dev. of 7 runs, 100000 loops each)\n"
     ]
    }
   ],
   "source": [
    "lst = [59, 87, 39, 77, 59, 91, 42, 99, 83, 38, 98, 91]\n",
    "%timeit rselect2(lst, 12)"
   ]
  },
  {
   "cell_type": "markdown",
   "metadata": {},
   "source": [
    "#### Performance comparision for RSelect Method 1 and RSelect Method 2 on a random list of 1000 elements"
   ]
  },
  {
   "cell_type": "code",
   "execution_count": 184,
   "metadata": {},
   "outputs": [
    {
     "name": "stdout",
     "output_type": "stream",
     "text": [
      "rselect1 function avg. time: \n",
      "385 µs ± 6.78 µs per loop (mean ± std. dev. of 7 runs, 1000 loops each)\n",
      "\n",
      "rselect2 function avg. time: \n",
      "572 µs ± 31.5 µs per loop (mean ± std. dev. of 7 runs, 1000 loops each)\n"
     ]
    }
   ],
   "source": [
    "from random import randint\n",
    "lst = [randint(0, 10000) for i in range(1000)]\n",
    "lst_copy = [ele for ele in lst]\n",
    "print('rselect1 function avg. time: ')\n",
    "%timeit rselect1(lst, 0, len(lst)-1, 879)\n",
    "print('\\nrselect2 function avg. time: ')\n",
    "%timeit rselect2(lst_copy, 879)"
   ]
  },
  {
   "cell_type": "markdown",
   "metadata": {},
   "source": [
    "### DSelect Algorithm to find $i^{th}$ smallest element (order = i) [Best case - $O(n)$, Worst case - $O(n)$]"
   ]
  },
  {
   "cell_type": "markdown",
   "metadata": {},
   "source": [
    "#### DSelect Method 1 (In-place Sort)\n",
    "This method defines a `median()` function internally to calculate median of medians instead of calling `dselect1()` function recursively to calculate this median of medians as pivot `(as in DSelect Method 2, 3)`. The advantage with this method is that if we call `dselect()` recursively to compute median of medians there is an additional sorting (Partition) and index verifying of `pivot_idx` with `required_idx` to compute median of medians leading to additional computational time and resources."
   ]
  },
  {
   "cell_type": "code",
   "execution_count": 72,
   "metadata": {},
   "outputs": [],
   "source": [
    "def dselect1(arr, left, right, order):\n",
    "    required_idx = order-1\n",
    "    if left >= right:\n",
    "        if right == required_idx:\n",
    "            return arr[right]\n",
    "        raise IndexError(\"Index with {}th order statistic can't be found\".format(order))\n",
    "    \n",
    "    def median(temp_arr):\n",
    "        n = int(round((len(temp_arr)+2)/5, 0)) # right-left+1 is the length of the array, + 2 is to make sure the problem also \n",
    "#   works for edge cases where there are 5 elements or 6 or 7 or 8 or 9 or 10 elements \n",
    "#   such that we get n=1 when 5 elements, n=2 when 6 or 7 or 8 or 9 or 10 elements.\n",
    "        medians = []\n",
    "        for i in range(n):\n",
    "            start = i*5\n",
    "            end = (i+1)*5 if i != n-1 else len(temp_arr)\n",
    "            median_temp = sorted(temp_arr[start:end])\n",
    "            median_idx = (len(median_temp)-1)//2 # If there are even number of elements the the smallest of the two medians\n",
    "    #       are taken as medians. For ex, In [2, 4, 5, 6] median = 4\n",
    "            medians.append(median_temp[median_idx])\n",
    "        return medians\n",
    "    median_of_medians = arr[left:right+1]\n",
    "    while True:\n",
    "        median_of_medians = median(median_of_medians) # Find median_of_medians recursively,\n",
    "#   It's important to know that here we are passing order of the median not index of the median\n",
    "        if len(median_of_medians) == 1:\n",
    "            pivot = median_of_medians[0]\n",
    "            break\n",
    "    i, j = left, left\n",
    "    while j <= right:\n",
    "        if arr[j] < pivot:\n",
    "            if i != j:\n",
    "                arr[i], arr[j] = arr[j], arr[i]\n",
    "            i += 1\n",
    "        elif arr[j] == pivot:\n",
    "            if i != j:\n",
    "                arr[i], arr[j] = arr[j], arr[i]\n",
    "            pivot_idx = i\n",
    "            i += 1\n",
    "        j += 1\n",
    "    arr[pivot_idx], arr[i-1] = arr[i-1], arr[pivot_idx]\n",
    "    pivot_idx = i-1\n",
    "    if pivot_idx == required_idx:\n",
    "        return arr[pivot_idx]\n",
    "    elif required_idx < pivot_idx:\n",
    "        rslt = dselect1(arr, left, pivot_idx-1, order)\n",
    "    else: # if required_idx > pivot\n",
    "        rslt = dselect1(arr, pivot_idx+1, right, order)\n",
    "    return rslt"
   ]
  },
  {
   "cell_type": "code",
   "execution_count": 75,
   "metadata": {},
   "outputs": [
    {
     "name": "stdout",
     "output_type": "stream",
     "text": [
      "12.7 µs ± 967 ns per loop (mean ± std. dev. of 7 runs, 100000 loops each)\n"
     ]
    }
   ],
   "source": [
    "lst = [59, 87, 39, 77, 59, 91, 42, 99, 83, 38, 98, 91]\n",
    "%timeit dselect1(lst, 0, len(lst)-1, 12)"
   ]
  },
  {
   "cell_type": "markdown",
   "metadata": {},
   "source": [
    "#### DSelect Method 2 (In-place Sort)\n",
    "The difference between Method 1 and Method 2 is that this method uses the same `dselect2()` algorithm recursively to compute median of medians where as `dselect1()` method internally uses `median()` function for this purpose.\n",
    "<br>\n",
    "The difference between Method 2 and Method 3 is that `deslect2()` function is in-place sort where as `dselect3()` is out-of-place sort"
   ]
  },
  {
   "cell_type": "code",
   "execution_count": 77,
   "metadata": {},
   "outputs": [],
   "source": [
    "def dselect2(arr, left, right, order):\n",
    "    required_idx = order-1\n",
    "    if left >= right:\n",
    "        if right == required_idx:\n",
    "            return arr[right]\n",
    "        raise IndexError(\"Index with {}th order statistic can't be found\".format(order))\n",
    "    n = int(round(((right-left+1)+2)/5, 0)) # right-left+1 is the length of the array, + 2 is to make sure the problem also \n",
    "#   works for edge cases where there are 5 elements or 6 or 7 or 8 or 9 or 10 elements \n",
    "#   such that we get n=1 when 5 elements, n=2 when 6 or 7 or 8 or 9 or 10 elements.\n",
    "    medians = []\n",
    "    for i in range(n):\n",
    "        start = left+i*5\n",
    "        end = left+(i+1)*5 if i != n-1 else right+1\n",
    "        median_temp = sorted(arr[start:end])\n",
    "        median_idx = (len(median_temp)-1)//2 # If there are even number of elements the the smallest of the two medians\n",
    "#       are taken as medians. For ex, In [2, 4, 5, 6] median = 4\n",
    "        medians.append(median_temp[median_idx])\n",
    "    median_order = int(round(len(medians)/2, 0)) if len(medians) > 1 else 1\n",
    "    pivot = dselect2(medians, 0, len(medians)-1, median_order) # Find median_of_medians recursively,\n",
    "#   It's important to know that here we are passing order of the median not index of the median\n",
    "    i, j = left, left\n",
    "    while j <= right:\n",
    "        if arr[j] < pivot:\n",
    "            if i != j:\n",
    "                arr[i], arr[j] = arr[j], arr[i]\n",
    "            i += 1\n",
    "        elif arr[j] == pivot:\n",
    "            if i != j:\n",
    "                arr[i], arr[j] = arr[j], arr[i]\n",
    "            pivot_idx = i\n",
    "            i += 1\n",
    "        j += 1\n",
    "    arr[pivot_idx], arr[i-1] = arr[i-1], arr[pivot_idx]\n",
    "    pivot_idx = i-1\n",
    "    if pivot_idx == required_idx:\n",
    "        return arr[pivot_idx]\n",
    "    elif required_idx < pivot_idx:\n",
    "        rslt = dselect2(arr, left, pivot_idx-1, order)\n",
    "    else: # if required_idx > pivot\n",
    "        rslt = dselect2(arr, pivot_idx+1, right, order)\n",
    "    return rslt"
   ]
  },
  {
   "cell_type": "code",
   "execution_count": 78,
   "metadata": {},
   "outputs": [
    {
     "name": "stdout",
     "output_type": "stream",
     "text": [
      "12.9 µs ± 1.19 µs per loop (mean ± std. dev. of 7 runs, 100000 loops each)\n"
     ]
    }
   ],
   "source": [
    "lst = [59, 87, 39, 77, 59, 91, 42, 99, 83, 38, 98, 91]\n",
    "%timeit dselect2(lst, 0, len(lst)-1, 12)"
   ]
  },
  {
   "cell_type": "markdown",
   "metadata": {},
   "source": [
    "#### DSelect Method 3 (Out-of-place Sort)\n",
    "This method `dselect3()` has to copy part of the array as an argument to `dselect3()` in each of its recursive call leading to additional memory and computational time "
   ]
  },
  {
   "cell_type": "code",
   "execution_count": 79,
   "metadata": {},
   "outputs": [],
   "source": [
    "def dselect3(arr, order):\n",
    "    required_idx = order-1\n",
    "    if len(arr) == 1:\n",
    "        return arr[0]\n",
    "    n = int(round((len(arr)+2)/5, 0)) # + 2 is to make sure the problem also \n",
    "#   works for edge cases where there are 5 elements or 6 or 7 or 8 or 9 or 10 elements \n",
    "#   such that we get n=1 when 5 elements, n=2 when 6 or 7 or 8 or 9 or 10 elements.\n",
    "    medians = []\n",
    "    for i in range(n):\n",
    "        start = i*5\n",
    "        end = (i+1)*5 if i != n-1 else len(arr)\n",
    "        median_temp = sorted(arr[start:end])\n",
    "        median_idx = (len(median_temp)-1)//2# If there are even number of elements the the smallest of the two medians\n",
    "#       are taken as medians. For ex, In [2, 4, 5, 6] median = 4\n",
    "        medians.append(median_temp[median_idx])\n",
    "    median_order = int(round(len(medians)/2, 0)) if len(medians) > 1 else 1\n",
    "    pivot = dselect3(medians, median_order) # Find median_of_medians recursively,\n",
    "#   It's important to know that here we are passing order of the median not index of the median\n",
    "    i, j = 0, 0\n",
    "    while j <= len(arr)-1:\n",
    "        if arr[j] < pivot:\n",
    "            if i != j:\n",
    "                arr[i], arr[j] = arr[j], arr[i]\n",
    "            i += 1\n",
    "        elif arr[j] == pivot:\n",
    "            if i != j:\n",
    "                arr[i], arr[j] = arr[j], arr[i]\n",
    "            pivot_idx = i\n",
    "            i += 1\n",
    "        j += 1\n",
    "    arr[pivot_idx], arr[i-1] = arr[i-1], arr[pivot_idx]\n",
    "    pivot_idx = i-1\n",
    "    if pivot_idx == required_idx:\n",
    "        return arr[pivot_idx]\n",
    "    elif required_idx < pivot_idx:\n",
    "        rslt = dselect3(arr[:pivot_idx], order)\n",
    "    elif required_idx > pivot_idx:\n",
    "        rslt = dselect3(arr[pivot_idx+1:], order-pivot_idx-1)\n",
    "    return rslt"
   ]
  },
  {
   "cell_type": "code",
   "execution_count": 80,
   "metadata": {},
   "outputs": [
    {
     "name": "stdout",
     "output_type": "stream",
     "text": [
      "14.7 µs ± 747 ns per loop (mean ± std. dev. of 7 runs, 100000 loops each)\n"
     ]
    }
   ],
   "source": [
    "lst = [59, 87, 39, 77, 59, 91, 42, 99, 83, 38, 98, 91]\n",
    "%timeit dselect3(lst, 12)"
   ]
  },
  {
   "cell_type": "markdown",
   "metadata": {},
   "source": [
    "#### Performance comparision for DSelect Method 1, DSelect Method 2  and DSelect Method 3 on a random list of 1000 elements"
   ]
  },
  {
   "cell_type": "code",
   "execution_count": 83,
   "metadata": {},
   "outputs": [
    {
     "name": "stdout",
     "output_type": "stream",
     "text": [
      "dselect1 function avg. time: \n",
      "785 µs ± 116 µs per loop (mean ± std. dev. of 7 runs, 1000 loops each)\n",
      "\n",
      "dselect2 function avg. time: \n",
      "950 µs ± 105 µs per loop (mean ± std. dev. of 7 runs, 1000 loops each)\n",
      "\n",
      "dselect3 function avg. time: \n",
      "1.17 ms ± 77.7 µs per loop (mean ± std. dev. of 7 runs, 1000 loops each)\n"
     ]
    }
   ],
   "source": [
    "from random import randint\n",
    "lst = [randint(0, 10000) for i in range(1000)]\n",
    "lst_copy = [ele for ele in lst]\n",
    "lst_copy2 = [ele for ele in lst]\n",
    "print('dselect1 function avg. time: ')\n",
    "%timeit dselect1(lst, 0, len(lst)-1, 879)\n",
    "print('\\ndselect2 function avg. time: ')\n",
    "%timeit dselect2(lst_copy, 0, len(lst)-1, 879)\n",
    "print('\\ndselect3 function avg. time: ')\n",
    "%timeit dselect3(lst_copy2, 879)"
   ]
  },
  {
   "cell_type": "code",
   "execution_count": null,
   "metadata": {},
   "outputs": [],
   "source": []
  }
 ],
 "metadata": {
  "kernelspec": {
   "display_name": "Python 3",
   "language": "python",
   "name": "python3"
  },
  "language_info": {
   "codemirror_mode": {
    "name": "ipython",
    "version": 3
   },
   "file_extension": ".py",
   "mimetype": "text/x-python",
   "name": "python",
   "nbconvert_exporter": "python",
   "pygments_lexer": "ipython3",
   "version": "3.7.5"
  }
 },
 "nbformat": 4,
 "nbformat_minor": 4
}
